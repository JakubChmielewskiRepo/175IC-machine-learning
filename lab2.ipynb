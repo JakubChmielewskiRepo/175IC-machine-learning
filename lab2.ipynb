{
  "nbformat": 4,
  "nbformat_minor": 0,
  "metadata": {
    "colab": {
      "name": "lab2.ipynb",
      "provenance": [],
      "authorship_tag": "ABX9TyNl/0OQQNl7/qBbdBDS7p89",
      "include_colab_link": true
    },
    "kernelspec": {
      "name": "python3",
      "display_name": "Python 3"
    }
  },
  "cells": [
    {
      "cell_type": "markdown",
      "metadata": {
        "id": "view-in-github",
        "colab_type": "text"
      },
      "source": [
        "<a href=\"https://colab.research.google.com/github/JakubChmielewskiRepo/175IC-machine-learning/blob/main/lab2.ipynb\" target=\"_parent\"><img src=\"https://colab.research.google.com/assets/colab-badge.svg\" alt=\"Open In Colab\"/></a>"
      ]
    },
    {
      "cell_type": "code",
      "metadata": {
        "id": "6OeGM-Shoyn9",
        "outputId": "10814e04-08ac-438e-a45b-c3cffab7e7ca",
        "colab": {
          "base_uri": "https://localhost:8080/"
        }
      },
      "source": [
        "import numpy as np\n",
        "import pandas as pd\n",
        "import sklearn\n",
        "from sklearn.impute import SimpleImputer\n",
        "from sklearn.datasets import load_iris\n",
        "from sklearn.model_selection import train_test_split\n",
        "\n",
        "#Generowanie danych\n",
        "data = {\n",
        "    'size': [np.nan, 'L', 'M', 'L', 'S', np.nan, 'L', 'S', 'L', 'M', 'S', 'XL', 'M', 'S', 'L', 'S', 'M', 'L', 'S', 'L'],\n",
        "    'color': [np.nan, 'green', 'blue', 'green', 'red', 'yellow', np.nan, 'blue', 'green', 'black', 'blue', 'yellow', 'green', 'green', 'black', 'red', 'yellow', 'grey', 'blue', 'gray'],\n",
        "    'gender': ['male', 'male', 'male', np.nan, np.nan, 'female', np.nan, 'male', 'male', 'male', 'male', np.nan, 'female', 'female', 'female', 'male', 'female', 'male', 'male', 'male'],\n",
        "    'price': [np.nan, 89.0, 99.0, 129.0, 79.0, 230.0, np.nan, 180.0, np.nan, 80.0, np.nan, 189.0, 79.0, 179.0, 29.0, 130.0, 180.0, 110.0, 46.0, 89.0],\n",
        "    'weight': [np.nan, 450, 300, np.nan, 410, 700, 630, np.nan, 300, 240, 320, 450, 400, 630, 240, 100, 780, 610, 660, 300],\n",
        "    'bought': ['yes', 'no', 'yes', 'no', 'no', 'yes', 'yes', 'no', 'yes', 'no', 'no', 'yes', 'no', 'no', 'yes', 'yes', 'no', 'yes', 'no', 'no']\n",
        "}\n",
        "\n",
        "df_raw = pd.DataFrame(data=data)\n",
        "df = df_raw.copy()\n",
        "\n",
        "#1. pomiń dane, które mają 3 lub więcej pustych wartości\n",
        "df.dropna(thresh = (len(df.keys())-2), inplace=True)\n",
        "\n",
        "#2.\twypełnij puste miejsca w kolumnie price wartością średnią\n",
        "si = SimpleImputer(missing_values=np.nan, strategy='most_frequent')\n",
        "df['price'] = si.fit_transform(df[['price']])\n",
        "\n",
        "\n",
        "#3. wypełnij puste miejsca w kolumnie weight za pomocą interpolacji\n",
        "df['weight'].fillna(df['weight'].interpolate(), inplace=True)\n",
        "\n",
        "\n",
        "#4. wypełnij puste miejsca w kolumnie size, color i gender wartościami stałymi (np. unisex, black, male)\n",
        "df['size'].fillna('unisize', inplace=True)\n",
        "df['color'].fillna('black', inplace=True)\n",
        "df['gender'].fillna('male', inplace=True)\n",
        "\n",
        "\n",
        "#5.\tdodaj do słownika kolumnę cost, która reprezentuje cenę jako jedną z klas: cheap, normal_price, expensive; podziału ceny na te klasy dokonaj automatycznie (argument bins metody pandas.cut)\n",
        "df['cost'] = pd.cut(df['price'], bins = 3, labels=('cheap', 'normal_price', 'expensive'))\n",
        "#6.\tdostosuj dane do modelu tak, by przedstawiały wartość binarną (np. bought: [‘yes’, ‘no’, ‘yes’] na bought_yes: [1,0,1])\n",
        "df['bought_yes'] = df['bought'].apply(lambda x: 1 if 'yes' in x else 0)\n",
        "print(df)\n",
        "\n",
        "#7.\tpodziel słownik na dane wejściowe i wartość wyjściową, a następnie podziel na zbiór uczący i testujący\n",
        "df1=df['price']\n",
        "df2=df['bought_yes']\n",
        "X_train, X_test, y_train, y_test = train_test_split(df1, df2, train_size = 0.5)\n",
        "\n",
        "print(f'X_train shape {X_train.shape}')\n",
        "print(f'X_test shape {X_test.shape}')\n",
        "print(f'y_train shape {y_train.shape}')\n",
        "print(f'y_test shape {y_test.shape}')\n",
        "print(y_train.head())\n"
      ],
      "execution_count": 33,
      "outputs": [
        {
          "output_type": "stream",
          "text": [
            "       size   color  gender  price  weight bought          cost  bought_yes\n",
            "1         L   green    male   89.0   450.0     no         cheap           0\n",
            "2         M    blue    male   99.0   300.0    yes  normal_price           1\n",
            "3         L   green    male  129.0   355.0     no  normal_price           0\n",
            "4         S     red    male   79.0   410.0     no         cheap           0\n",
            "5   unisize  yellow  female  230.0   700.0    yes     expensive           1\n",
            "7         S    blue    male  180.0   500.0     no     expensive           0\n",
            "8         L   green    male   79.0   300.0    yes         cheap           1\n",
            "9         M   black    male   80.0   240.0     no         cheap           0\n",
            "10        S    blue    male   79.0   320.0     no         cheap           0\n",
            "11       XL  yellow    male  189.0   450.0    yes     expensive           1\n",
            "12        M   green  female   79.0   400.0     no         cheap           0\n",
            "13        S   green  female  179.0   630.0     no     expensive           0\n",
            "14        L   black  female   29.0   240.0    yes         cheap           1\n",
            "15        S     red    male  130.0   100.0    yes  normal_price           1\n",
            "16        M  yellow  female  180.0   780.0     no     expensive           0\n",
            "17        L    grey    male  110.0   610.0    yes  normal_price           1\n",
            "18        S    blue    male   46.0   660.0     no         cheap           0\n",
            "19        L    gray    male   89.0   300.0     no         cheap           0\n",
            "X_train shape (9,)\n",
            "X_test shape (9,)\n",
            "y_train shape (9,)\n",
            "y_test shape (9,)\n",
            "4     0\n",
            "12    0\n",
            "16    0\n",
            "9     0\n",
            "2     1\n",
            "Name: bought_yes, dtype: int64\n"
          ],
          "name": "stdout"
        }
      ]
    }
  ]
}