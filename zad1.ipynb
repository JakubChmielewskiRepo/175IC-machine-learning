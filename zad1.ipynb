{
  "nbformat": 4,
  "nbformat_minor": 0,
  "metadata": {
    "colab": {
      "name": "Untitled4.ipynb",
      "provenance": [],
      "authorship_tag": "ABX9TyNPQnb2OfSzpbA/B+XXS3Jm",
      "include_colab_link": true
    },
    "kernelspec": {
      "name": "python3",
      "display_name": "Python 3"
    }
  },
  "cells": [
    {
      "cell_type": "markdown",
      "metadata": {
        "id": "view-in-github",
        "colab_type": "text"
      },
      "source": [
        "<a href=\"https://colab.research.google.com/github/JakubChmielewskiRepo/175IC-machine-learning/blob/main/zad1.ipynb\" target=\"_parent\"><img src=\"https://colab.research.google.com/assets/colab-badge.svg\" alt=\"Open In Colab\"/></a>"
      ]
    },
    {
      "cell_type": "code",
      "metadata": {
        "id": "YMwQtH2dVxlw",
        "outputId": "227b7370-7224-403b-aebd-da58efc2629c",
        "colab": {
          "base_uri": "https://localhost:8080/"
        }
      },
      "source": [
        "#!pip install scikit-learn\n",
        "import numpy as np\n",
        "import pandas as pd\n",
        "import sklearn as sk\n",
        "from sklearn.preprocessing import LabelEncoder , StandardScaler \n",
        "data = {\n",
        "    'size': ['L', 'M','S','XS','XXS','XL','XXL','XXXL','XXXXL'],\n",
        "    'color': ['green', 'red','blue','yellow','black','white','purple','orange','pink'],\n",
        "    'gender': ['female', 'female','female','female','female','female','male','male','male'],\n",
        "    'price': [149.0, 79.0, 100.0, 120.0, 140.0, 160.0, 180.0, 220.0, 230.0],\n",
        "    'weight': [380, 410, 430, 420, 330, 300, 460, 470, 410],\n",
        "    'bought': ['no', 'yes', 'yes', 'yes', 'yes', 'yes', 'yes', 'yes', 'no']\n",
        "}\n",
        "pd.DataFrame(data=data)\n",
        "\n",
        "df_raw = pd.DataFrame(data=data)\n",
        "\n",
        "df = df_raw.copy()\n",
        "\n",
        "\n",
        "for col in ['size', 'color', 'gender', 'bought']:\n",
        "    df[col] = df[col].astype('category')\n",
        "\n",
        "    df['weight'] = df['weight'].astype('float')\n",
        "#print(df.info())\n",
        "\n",
        "#df.describe().T\n",
        "df.describe(include=['category']).T\n",
        "\n",
        "df\n",
        "le = LabelEncoder()\n",
        "le.fit_transform(df['bought'])\n",
        "\n",
        "le.classes_\n",
        "\n",
        "df['bought']=le.fit_transform(df['bought'])\n",
        "df\n",
        "\n",
        "pd.get_dummies(data=df)\n",
        "\n",
        "pd.get_dummies(data=df, drop_first=True)\n",
        "\n",
        "scaler = StandardScaler()\n",
        "df[['price', 'weight']] = scaler.fit_transform(df[['price', 'weight']])\n",
        "\n",
        "print(df_raw)\n",
        "print(df)\n"
      ],
      "execution_count": 29,
      "outputs": [
        {
          "output_type": "stream",
          "text": [
            "    size   color  gender  price  weight bought\n",
            "0      L   green  female  149.0     380     no\n",
            "1      M     red  female   79.0     410    yes\n",
            "2      S    blue  female  100.0     430    yes\n",
            "3     XS  yellow  female  120.0     420    yes\n",
            "4    XXS   black  female  140.0     330    yes\n",
            "5     XL   white  female  160.0     300    yes\n",
            "6    XXL  purple    male  180.0     460    yes\n",
            "7   XXXL  orange    male  220.0     470    yes\n",
            "8  XXXXL    pink    male  230.0     410     no\n",
            "    size   color  gender     price    weight  bought\n",
            "0      L   green  female -0.085609 -0.398261       0\n",
            "1      M     red  female -1.543279  0.167689       1\n",
            "2      S    blue  female -1.105978  0.544988       1\n",
            "3     XS  yellow  female -0.689501  0.356339       1\n",
            "4    XXS   black  female -0.273024 -1.341510       1\n",
            "5     XL   white  female  0.143453 -1.907459       1\n",
            "6    XXL  purple    male  0.559930  1.110938       1\n",
            "7   XXXL  orange    male  1.392884  1.299588       1\n",
            "8  XXXXL    pink    male  1.601123  0.167689       0\n"
          ],
          "name": "stdout"
        }
      ]
    }
  ]
}